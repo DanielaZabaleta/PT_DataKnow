{
 "cells": [
  {
   "cell_type": "markdown",
   "metadata": {
    "id": "hKieHWin8rv4"
   },
   "source": [
    "#Informe Final de la Prueba Técnica 2\n",
    "\n",
    "####**Autor:** Daniela Zabaleta Benitez\n",
    "####**Fecha:** 20/08/2025\n",
    "####**Descripción:** Notebook para presentar el informe detallado sobre la prueba técnica #2, se incluye la implementación de un ChatBot Legal utilizando un modelo gratuito de Hugging Face (FLAN-T5), que permite resultados similares y accesibles → Finalmente, FLAN-T5 no me ofreció resultados buenos (devolvia el mismo prompt), entonces terminé implementando el modelo de Gemini (Google Generative AI).\n"
   ]
  },
  {
   "cell_type": "markdown",
   "metadata": {
    "id": "j8CbNLxV8-Rp"
   },
   "source": [
    "#1. Explicación del caso\n",
    "\n",
    "####En un consultorio legal quieren automatizar el proceso de consulta y resolución de dudas y optimizar el tiempo de los abogados para asesorar a sus clientes frente a posibles demandas y los resultados de estas, las dudas muy puntuales no pueden ser resueltas solo con la historia de demandas y sentencias, por lo que buscan una solución donde se haga uso de la Inteligencia Artificial Generativa (Generative AI).  \n",
    "####Para la prueba, quieren concentrarse en demandas relacionadas a redes sociales.\n",
    "\n",
    "####La solución debe ser capaz de responder preguntas específicas sobre casos legales, en un lenguaje coloquial, es decir, para una persona que no tenga conocimientos de derecho:\n",
    "\n",
    "*   ¿Cuáles son las sentencias de 3 demandas? (las 3 demandas pueden ser elegidas por ud).\n",
    "*    ¿De qué se trataron las 3 demandas anteriores?.\n",
    "*   ¿Cuál fue la sentencia del caso que habla de acoso escolar?.\n",
    "*   Diga el detalle de la demanda relacionada con acoso escolar.\n",
    "*   ¿Existen casos que hablan sobre el PIAR? Indique de que trataron los casos y cuáles fueron sus sentencias.\n",
    "\n",
    "\n",
    "\n",
    "\n",
    "\n"
   ]
  },
  {
   "cell_type": "markdown",
   "metadata": {
    "id": "1Fy9HpgO9CyS"
   },
   "source": [
    "#2. Supuestos\n",
    "\n",
    "####Se asume que el archivo de datos de casos legales entregado contiene la información necesaria para responder las preguntas planteadas, entonces no es necesario buscar en fuentes externas.\n",
    "####Tambien como no tengo conocimientos sobre terminologia juridica, se asume que el contenido es correcto, por lo que esta completo y sin errores graves para ser usado."
   ]
  },
  {
   "cell_type": "markdown",
   "metadata": {
    "id": "kyhvZqYg9FVF"
   },
   "source": [
    "#3. Formas de resolver el caso y la opcion elegida\n",
    "\n",
    "####La mejor manera de darle respuesta a las dudas muy puntuales de los clientes que no tienen los conocimientos tecnicos sobre las sentencias legales es creando un ChatBot, que permita realizar preguntas en lenguaje natural y recibir respuestas relevantes basadas en los datos del archivo proporcionado.\n",
    "####Se concideraron varias opciones, entre ellas:\n",
    "*   Modelos OpenAI (GPT-3.5) es la opción más natural y fluida, pero fue descartada porque para que la API Key funcione requiere tener credito en la cuenta.\n",
    "*   Modelos ligeros en Hugging Face (FLAN-T5) es rapido, corre en CPU, pero presenta limitaciones en español y tienden a repetir el prompt sin dar explicaciones claras, por lo que es necesario un prompt mas guiado.\n",
    "\n",
    "*   Modelos Open Source más robustos (LLaMA-2, Mistral) ofrecen mejores respuestas en español y mayor capacidad de redacción, solo que consumen más recursos, y el tiempo de ejecución puede ser lento en CPU, requieren GPU/tokens.\n",
    "\n",
    "*   Gemini (Google Generative AI) opción natural y fluida y con API Key de acceso gratuito.\n",
    "\n",
    "####La opcion elegida para la implementación del ChatBot legal es usando LLaMa-2 en CPU (en GPU saltaba error por el espacio) combinado con la busqueda exacta de una palabra clave como primera prueba para ver como se comportaba el modelo. Lo elegi porque es gratuito y Open Source, pero el tiempo de respuesta en CPU es muy lento y no terminó de cargar.\n",
    "####Por esto, se optó por usar FLAN-T5 como modelo de soporte para la prueba, pero la calidad finalmente no es buena.\n",
    "####Finalmente, se uso Gemini (Google Generative AI) porque esta me permitió cumplir con lo que se pedia (pude terminar de probar) ya que tuve acceso gratuito con API Key, fue compatible con el español y me dio respuestas más naturales y útiles que FLAN-T5.\n",
    "\n",
    "\n",
    "\n"
   ]
  },
  {
   "cell_type": "markdown",
   "metadata": {
    "id": "xQoxy3NU9QlQ"
   },
   "source": [
    "#4. Resultados del análisis de los datos y los modelos"
   ]
  },
  {
   "cell_type": "markdown",
   "metadata": {
    "id": "L6V_ttv0BeUG"
   },
   "source": [
    "###4.1 Librerias"
   ]
  },
  {
   "cell_type": "code",
   "execution_count": null,
   "metadata": {
    "id": "x9BLi4TGDMre"
   },
   "outputs": [],
   "source": [
    "!pip install -q -U google-generativeai"
   ]
  },
  {
   "cell_type": "code",
   "execution_count": null,
   "metadata": {
    "colab": {
     "base_uri": "https://localhost:8080/"
    },
    "executionInfo": {
     "elapsed": 27636,
     "status": "ok",
     "timestamp": 1755825483117,
     "user": {
      "displayName": "Luis zabaleta",
      "userId": "04173334798562235860"
     },
     "user_tz": 300
    },
    "id": "8C1_MdBkFhXU",
    "outputId": "41ffc44f-1d7c-4394-e9bf-4488ab06c089"
   },
   "outputs": [
    {
     "name": "stdout",
     "output_type": "stream",
     "text": [
      "\u001b[2K   \u001b[90m━━━━━━━━━━━━━━━━━━━━━━━━━━━━━━━━━━━━━━━━\u001b[0m \u001b[32m31.4/31.4 MB\u001b[0m \u001b[31m25.1 MB/s\u001b[0m eta \u001b[36m0:00:00\u001b[0m\n",
      "\u001b[?25h"
     ]
    }
   ],
   "source": [
    "!pip install faiss-cpu sentence-transformers -q"
   ]
  },
  {
   "cell_type": "code",
   "execution_count": null,
   "metadata": {
    "id": "aqbbdM6TBjA6"
   },
   "outputs": [],
   "source": [
    "import google.generativeai as genai\n",
    "from google.colab import userdata\n",
    "import pandas as pd\n",
    "import numpy as np\n",
    "import faiss\n",
    "from sentence_transformers import SentenceTransformer"
   ]
  },
  {
   "cell_type": "code",
   "execution_count": null,
   "metadata": {
    "id": "ofIQCpU9XBQx"
   },
   "outputs": [],
   "source": [
    "GEMINI_API_KEY = userdata.get('GEMINI_API_KEY')\n",
    "genai.configure(api_key = GEMINI_API_KEY)"
   ]
  },
  {
   "cell_type": "markdown",
   "metadata": {
    "id": "IQ4vqhGrCX0y"
   },
   "source": [
    "###4.2 Cagar los datos"
   ]
  },
  {
   "cell_type": "code",
   "execution_count": null,
   "metadata": {
    "colab": {
     "base_uri": "https://localhost:8080/"
    },
    "executionInfo": {
     "elapsed": 414,
     "status": "ok",
     "timestamp": 1755825862478,
     "user": {
      "displayName": "Luis zabaleta",
      "userId": "04173334798562235860"
     },
     "user_tz": 300
    },
    "id": "rATEjcB7Ccnc",
    "outputId": "f11dbaf1-ac0f-4624-9ccd-3b4182743748"
   },
   "outputs": [
    {
     "name": "stdout",
     "output_type": "stream",
     "text": [
      "/content/drive/MyDrive/Colab Notebooks/Prueba Técnica Cientifico de Datos/Prueba tecnica 2\n"
     ]
    }
   ],
   "source": [
    "#Ruta archivo\n",
    "%cd /content/drive/MyDrive/Colab Notebooks/Prueba Técnica Cientifico de Datos/Prueba tecnica 2"
   ]
  },
  {
   "cell_type": "code",
   "execution_count": null,
   "metadata": {
    "colab": {
     "base_uri": "https://localhost:8080/",
     "height": 484
    },
    "executionInfo": {
     "elapsed": 1185,
     "status": "ok",
     "timestamp": 1755825865620,
     "user": {
      "displayName": "Luis zabaleta",
      "userId": "04173334798562235860"
     },
     "user_tz": 300
    },
    "id": "8Zh-_CaqCfqV",
    "outputId": "df0db021-dbe5-4165-bca2-13c173ee1e2a"
   },
   "outputs": [
    {
     "data": {
      "application/vnd.google.colaboratory.intrinsic+json": {
       "summary": "{\n  \"name\": \"df\",\n  \"rows\": 329,\n  \"fields\": [\n    {\n      \"column\": \"#\",\n      \"properties\": {\n        \"dtype\": \"number\",\n        \"std\": 143,\n        \"min\": 1,\n        \"max\": 495,\n        \"num_unique_values\": 329,\n        \"samples\": [\n          14,\n          221,\n          192\n        ],\n        \"semantic_type\": \"\",\n        \"description\": \"\"\n      }\n    },\n    {\n      \"column\": \"Relevancia\",\n      \"properties\": {\n        \"dtype\": \"number\",\n        \"std\": 288882.71023383585,\n        \"min\": 108.71,\n        \"max\": 966965.0,\n        \"num_unique_values\": 224,\n        \"samples\": [\n          939.17,\n          764866.0,\n          595327.0\n        ],\n        \"semantic_type\": \"\",\n        \"description\": \"\"\n      }\n    },\n    {\n      \"column\": \"Providencia\",\n      \"properties\": {\n        \"dtype\": \"string\",\n        \"num_unique_values\": 329,\n        \"samples\": [\n          \"T-281/21\",\n          \"A. 1437/24\",\n          \"A. 2640/23\"\n        ],\n        \"semantic_type\": \"\",\n        \"description\": \"\"\n      }\n    },\n    {\n      \"column\": \"Tipo\",\n      \"properties\": {\n        \"dtype\": \"number\",\n        \"std\": null,\n        \"min\": null,\n        \"max\": null,\n        \"num_unique_values\": 0,\n        \"samples\": [],\n        \"semantic_type\": \"\",\n        \"description\": \"\"\n      }\n    },\n    {\n      \"column\": \"Fecha Sentencia\",\n      \"properties\": {\n        \"dtype\": \"date\",\n        \"min\": \"2019-02-01 00:00:00\",\n        \"max\": \"2024-11-13 00:00:00\",\n        \"num_unique_values\": 264,\n        \"samples\": [],\n        \"semantic_type\": \"\",\n        \"description\": \"\"\n      }\n    },\n    {\n      \"column\": \"Tema - subtema\",\n      \"properties\": {\n        \"dtype\": \"string\",\n        \"num_unique_values\": 197,\n        \"samples\": [],\n        \"semantic_type\": \"\",\n        \"description\": \"\"\n      }\n    },\n    {\n      \"column\": \"resuelve\",\n      \"properties\": {\n        \"dtype\": \"string\",\n        \"num_unique_values\": 329,\n        \"samples\": [],\n        \"semantic_type\": \"\",\n        \"description\": \"\"\n      }\n    },\n    {\n      \"column\": \"sintesis\",\n      \"properties\": {\n        \"dtype\": \"string\",\n        \"num_unique_values\": 329,\n        \"samples\": [],\n        \"semantic_type\": \"\",\n        \"description\": \"\"\n      }\n    }\n  ]\n}",
       "type": "dataframe",
       "variable_name": "df"
      },
      "text/html": [
       "\n",
       "  <div id=\"df-3de83e01-7fac-42e2-b4f2-f97248de073c\" class=\"colab-df-container\">\n",
       "    <div>\n",
       "<style scoped>\n",
       "    .dataframe tbody tr th:only-of-type {\n",
       "        vertical-align: middle;\n",
       "    }\n",
       "\n",
       "    .dataframe tbody tr th {\n",
       "        vertical-align: top;\n",
       "    }\n",
       "\n",
       "    .dataframe thead th {\n",
       "        text-align: right;\n",
       "    }\n",
       "</style>\n",
       "<table border=\"1\" class=\"dataframe\">\n",
       "  <thead>\n",
       "    <tr style=\"text-align: right;\">\n",
       "      <th></th>\n",
       "      <th>#</th>\n",
       "      <th>Relevancia</th>\n",
       "      <th>Providencia</th>\n",
       "      <th>Tipo</th>\n",
       "      <th>Fecha Sentencia</th>\n",
       "      <th>Tema - subtema</th>\n",
       "      <th>resuelve</th>\n",
       "      <th>sintesis</th>\n",
       "    </tr>\n",
       "  </thead>\n",
       "  <tbody>\n",
       "    <tr>\n",
       "      <th>0</th>\n",
       "      <td>1</td>\n",
       "      <td>966965.0</td>\n",
       "      <td>T-185/22</td>\n",
       "      <td>NaN</td>\n",
       "      <td>2022-05-31</td>\n",
       "      <td>NaN</td>\n",
       "      <td>en nombre del pueblo y por mandato de la Const...</td>\n",
       "      <td>En este caso se formula la acción de tutela en...</td>\n",
       "    </tr>\n",
       "    <tr>\n",
       "      <th>1</th>\n",
       "      <td>3</td>\n",
       "      <td>963168.0</td>\n",
       "      <td>T-356/21</td>\n",
       "      <td>NaN</td>\n",
       "      <td>2021-10-15</td>\n",
       "      <td>ACCIÓN DE TUTELA PARA PROTEGER EL DERECHO A LA...</td>\n",
       "      <td>en nombre del pueblo y por mandato de la Const...</td>\n",
       "      <td>El peticionario considera que los accionantes ...</td>\n",
       "    </tr>\n",
       "    <tr>\n",
       "      <th>2</th>\n",
       "      <td>5</td>\n",
       "      <td>956201.0</td>\n",
       "      <td>T-351/22</td>\n",
       "      <td>NaN</td>\n",
       "      <td>2022-10-07</td>\n",
       "      <td>ACCIÓN DE TUTELA PARA PROTEGER EL DERECHO A LA...</td>\n",
       "      <td>administrando justicia en nombre del Pueblo, y...</td>\n",
       "      <td>El periodista accionante acusa al abogado acci...</td>\n",
       "    </tr>\n",
       "    <tr>\n",
       "      <th>3</th>\n",
       "      <td>6</td>\n",
       "      <td>955889.0</td>\n",
       "      <td>T-246/21</td>\n",
       "      <td>NaN</td>\n",
       "      <td>2021-07-29</td>\n",
       "      <td>ACCION DE TUTELA PARA PROTEGER EL DERECHO A LA...</td>\n",
       "      <td>en nombre del pueblo y por mandato de la Const...</td>\n",
       "      <td>Se presenta la acción de tutela en contra de u...</td>\n",
       "    </tr>\n",
       "    <tr>\n",
       "      <th>4</th>\n",
       "      <td>7</td>\n",
       "      <td>955787.0</td>\n",
       "      <td>T-245A/22</td>\n",
       "      <td>NaN</td>\n",
       "      <td>2022-07-01</td>\n",
       "      <td>ACCION DE TUTELA-Inexistencia de hecho superad...</td>\n",
       "      <td>en nombre del pueblo y por mandato de la Const...</td>\n",
       "      <td>El accionante, actuando en representación de s...</td>\n",
       "    </tr>\n",
       "  </tbody>\n",
       "</table>\n",
       "</div>\n",
       "    <div class=\"colab-df-buttons\">\n",
       "\n",
       "  <div class=\"colab-df-container\">\n",
       "    <button class=\"colab-df-convert\" onclick=\"convertToInteractive('df-3de83e01-7fac-42e2-b4f2-f97248de073c')\"\n",
       "            title=\"Convert this dataframe to an interactive table.\"\n",
       "            style=\"display:none;\">\n",
       "\n",
       "  <svg xmlns=\"http://www.w3.org/2000/svg\" height=\"24px\" viewBox=\"0 -960 960 960\">\n",
       "    <path d=\"M120-120v-720h720v720H120Zm60-500h600v-160H180v160Zm220 220h160v-160H400v160Zm0 220h160v-160H400v160ZM180-400h160v-160H180v160Zm440 0h160v-160H620v160ZM180-180h160v-160H180v160Zm440 0h160v-160H620v160Z\"/>\n",
       "  </svg>\n",
       "    </button>\n",
       "\n",
       "  <style>\n",
       "    .colab-df-container {\n",
       "      display:flex;\n",
       "      gap: 12px;\n",
       "    }\n",
       "\n",
       "    .colab-df-convert {\n",
       "      background-color: #E8F0FE;\n",
       "      border: none;\n",
       "      border-radius: 50%;\n",
       "      cursor: pointer;\n",
       "      display: none;\n",
       "      fill: #1967D2;\n",
       "      height: 32px;\n",
       "      padding: 0 0 0 0;\n",
       "      width: 32px;\n",
       "    }\n",
       "\n",
       "    .colab-df-convert:hover {\n",
       "      background-color: #E2EBFA;\n",
       "      box-shadow: 0px 1px 2px rgba(60, 64, 67, 0.3), 0px 1px 3px 1px rgba(60, 64, 67, 0.15);\n",
       "      fill: #174EA6;\n",
       "    }\n",
       "\n",
       "    .colab-df-buttons div {\n",
       "      margin-bottom: 4px;\n",
       "    }\n",
       "\n",
       "    [theme=dark] .colab-df-convert {\n",
       "      background-color: #3B4455;\n",
       "      fill: #D2E3FC;\n",
       "    }\n",
       "\n",
       "    [theme=dark] .colab-df-convert:hover {\n",
       "      background-color: #434B5C;\n",
       "      box-shadow: 0px 1px 3px 1px rgba(0, 0, 0, 0.15);\n",
       "      filter: drop-shadow(0px 1px 2px rgba(0, 0, 0, 0.3));\n",
       "      fill: #FFFFFF;\n",
       "    }\n",
       "  </style>\n",
       "\n",
       "    <script>\n",
       "      const buttonEl =\n",
       "        document.querySelector('#df-3de83e01-7fac-42e2-b4f2-f97248de073c button.colab-df-convert');\n",
       "      buttonEl.style.display =\n",
       "        google.colab.kernel.accessAllowed ? 'block' : 'none';\n",
       "\n",
       "      async function convertToInteractive(key) {\n",
       "        const element = document.querySelector('#df-3de83e01-7fac-42e2-b4f2-f97248de073c');\n",
       "        const dataTable =\n",
       "          await google.colab.kernel.invokeFunction('convertToInteractive',\n",
       "                                                    [key], {});\n",
       "        if (!dataTable) return;\n",
       "\n",
       "        const docLinkHtml = 'Like what you see? Visit the ' +\n",
       "          '<a target=\"_blank\" href=https://colab.research.google.com/notebooks/data_table.ipynb>data table notebook</a>'\n",
       "          + ' to learn more about interactive tables.';\n",
       "        element.innerHTML = '';\n",
       "        dataTable['output_type'] = 'display_data';\n",
       "        await google.colab.output.renderOutput(dataTable, element);\n",
       "        const docLink = document.createElement('div');\n",
       "        docLink.innerHTML = docLinkHtml;\n",
       "        element.appendChild(docLink);\n",
       "      }\n",
       "    </script>\n",
       "  </div>\n",
       "\n",
       "\n",
       "    <div id=\"df-1c884cf0-33cb-42e8-a8d3-557c623a5235\">\n",
       "      <button class=\"colab-df-quickchart\" onclick=\"quickchart('df-1c884cf0-33cb-42e8-a8d3-557c623a5235')\"\n",
       "                title=\"Suggest charts\"\n",
       "                style=\"display:none;\">\n",
       "\n",
       "<svg xmlns=\"http://www.w3.org/2000/svg\" height=\"24px\"viewBox=\"0 0 24 24\"\n",
       "     width=\"24px\">\n",
       "    <g>\n",
       "        <path d=\"M19 3H5c-1.1 0-2 .9-2 2v14c0 1.1.9 2 2 2h14c1.1 0 2-.9 2-2V5c0-1.1-.9-2-2-2zM9 17H7v-7h2v7zm4 0h-2V7h2v10zm4 0h-2v-4h2v4z\"/>\n",
       "    </g>\n",
       "</svg>\n",
       "      </button>\n",
       "\n",
       "<style>\n",
       "  .colab-df-quickchart {\n",
       "      --bg-color: #E8F0FE;\n",
       "      --fill-color: #1967D2;\n",
       "      --hover-bg-color: #E2EBFA;\n",
       "      --hover-fill-color: #174EA6;\n",
       "      --disabled-fill-color: #AAA;\n",
       "      --disabled-bg-color: #DDD;\n",
       "  }\n",
       "\n",
       "  [theme=dark] .colab-df-quickchart {\n",
       "      --bg-color: #3B4455;\n",
       "      --fill-color: #D2E3FC;\n",
       "      --hover-bg-color: #434B5C;\n",
       "      --hover-fill-color: #FFFFFF;\n",
       "      --disabled-bg-color: #3B4455;\n",
       "      --disabled-fill-color: #666;\n",
       "  }\n",
       "\n",
       "  .colab-df-quickchart {\n",
       "    background-color: var(--bg-color);\n",
       "    border: none;\n",
       "    border-radius: 50%;\n",
       "    cursor: pointer;\n",
       "    display: none;\n",
       "    fill: var(--fill-color);\n",
       "    height: 32px;\n",
       "    padding: 0;\n",
       "    width: 32px;\n",
       "  }\n",
       "\n",
       "  .colab-df-quickchart:hover {\n",
       "    background-color: var(--hover-bg-color);\n",
       "    box-shadow: 0 1px 2px rgba(60, 64, 67, 0.3), 0 1px 3px 1px rgba(60, 64, 67, 0.15);\n",
       "    fill: var(--button-hover-fill-color);\n",
       "  }\n",
       "\n",
       "  .colab-df-quickchart-complete:disabled,\n",
       "  .colab-df-quickchart-complete:disabled:hover {\n",
       "    background-color: var(--disabled-bg-color);\n",
       "    fill: var(--disabled-fill-color);\n",
       "    box-shadow: none;\n",
       "  }\n",
       "\n",
       "  .colab-df-spinner {\n",
       "    border: 2px solid var(--fill-color);\n",
       "    border-color: transparent;\n",
       "    border-bottom-color: var(--fill-color);\n",
       "    animation:\n",
       "      spin 1s steps(1) infinite;\n",
       "  }\n",
       "\n",
       "  @keyframes spin {\n",
       "    0% {\n",
       "      border-color: transparent;\n",
       "      border-bottom-color: var(--fill-color);\n",
       "      border-left-color: var(--fill-color);\n",
       "    }\n",
       "    20% {\n",
       "      border-color: transparent;\n",
       "      border-left-color: var(--fill-color);\n",
       "      border-top-color: var(--fill-color);\n",
       "    }\n",
       "    30% {\n",
       "      border-color: transparent;\n",
       "      border-left-color: var(--fill-color);\n",
       "      border-top-color: var(--fill-color);\n",
       "      border-right-color: var(--fill-color);\n",
       "    }\n",
       "    40% {\n",
       "      border-color: transparent;\n",
       "      border-right-color: var(--fill-color);\n",
       "      border-top-color: var(--fill-color);\n",
       "    }\n",
       "    60% {\n",
       "      border-color: transparent;\n",
       "      border-right-color: var(--fill-color);\n",
       "    }\n",
       "    80% {\n",
       "      border-color: transparent;\n",
       "      border-right-color: var(--fill-color);\n",
       "      border-bottom-color: var(--fill-color);\n",
       "    }\n",
       "    90% {\n",
       "      border-color: transparent;\n",
       "      border-bottom-color: var(--fill-color);\n",
       "    }\n",
       "  }\n",
       "</style>\n",
       "\n",
       "      <script>\n",
       "        async function quickchart(key) {\n",
       "          const quickchartButtonEl =\n",
       "            document.querySelector('#' + key + ' button');\n",
       "          quickchartButtonEl.disabled = true;  // To prevent multiple clicks.\n",
       "          quickchartButtonEl.classList.add('colab-df-spinner');\n",
       "          try {\n",
       "            const charts = await google.colab.kernel.invokeFunction(\n",
       "                'suggestCharts', [key], {});\n",
       "          } catch (error) {\n",
       "            console.error('Error during call to suggestCharts:', error);\n",
       "          }\n",
       "          quickchartButtonEl.classList.remove('colab-df-spinner');\n",
       "          quickchartButtonEl.classList.add('colab-df-quickchart-complete');\n",
       "        }\n",
       "        (() => {\n",
       "          let quickchartButtonEl =\n",
       "            document.querySelector('#df-1c884cf0-33cb-42e8-a8d3-557c623a5235 button');\n",
       "          quickchartButtonEl.style.display =\n",
       "            google.colab.kernel.accessAllowed ? 'block' : 'none';\n",
       "        })();\n",
       "      </script>\n",
       "    </div>\n",
       "\n",
       "    </div>\n",
       "  </div>\n"
      ],
      "text/plain": [
       "   #  Relevancia Providencia  Tipo Fecha Sentencia  \\\n",
       "0  1    966965.0    T-185/22   NaN      2022-05-31   \n",
       "1  3    963168.0    T-356/21   NaN      2021-10-15   \n",
       "2  5    956201.0    T-351/22   NaN      2022-10-07   \n",
       "3  6    955889.0    T-246/21   NaN      2021-07-29   \n",
       "4  7    955787.0   T-245A/22   NaN      2022-07-01   \n",
       "\n",
       "                                      Tema - subtema  \\\n",
       "0                                                NaN   \n",
       "1  ACCIÓN DE TUTELA PARA PROTEGER EL DERECHO A LA...   \n",
       "2  ACCIÓN DE TUTELA PARA PROTEGER EL DERECHO A LA...   \n",
       "3  ACCION DE TUTELA PARA PROTEGER EL DERECHO A LA...   \n",
       "4  ACCION DE TUTELA-Inexistencia de hecho superad...   \n",
       "\n",
       "                                            resuelve  \\\n",
       "0  en nombre del pueblo y por mandato de la Const...   \n",
       "1  en nombre del pueblo y por mandato de la Const...   \n",
       "2  administrando justicia en nombre del Pueblo, y...   \n",
       "3  en nombre del pueblo y por mandato de la Const...   \n",
       "4  en nombre del pueblo y por mandato de la Const...   \n",
       "\n",
       "                                            sintesis  \n",
       "0  En este caso se formula la acción de tutela en...  \n",
       "1  El peticionario considera que los accionantes ...  \n",
       "2  El periodista accionante acusa al abogado acci...  \n",
       "3  Se presenta la acción de tutela en contra de u...  \n",
       "4  El accionante, actuando en representación de s...  "
      ]
     },
     "execution_count": 7,
     "metadata": {},
     "output_type": "execute_result"
    }
   ],
   "source": [
    "df = pd.read_excel('Datos/sentencias_pasadas.xlsx')\n",
    "df.head(5)"
   ]
  },
  {
   "cell_type": "markdown",
   "metadata": {
    "id": "NqJaUjLQDeU-"
   },
   "source": [
    "###4.3 Preparación de los datos"
   ]
  },
  {
   "cell_type": "code",
   "execution_count": null,
   "metadata": {
    "colab": {
     "base_uri": "https://localhost:8080/",
     "height": 192
    },
    "executionInfo": {
     "elapsed": 8,
     "status": "ok",
     "timestamp": 1755825870671,
     "user": {
      "displayName": "Luis zabaleta",
      "userId": "04173334798562235860"
     },
     "user_tz": 300
    },
    "id": "z5NcIfmNRyOr",
    "outputId": "b580d757-3074-4ab4-c5b7-866b0dfa51c9"
   },
   "outputs": [
    {
     "data": {
      "application/vnd.google.colaboratory.intrinsic+json": {
       "type": "string"
      },
      "text/plain": [
       "'T-185/22 nan 2022-05-31 nan en nombre del pueblo y por mandato de la Constitución, RESUELVE PRIMERO.- REVOCAR las sentencias expedidas el 6 de enero de 2021, por el Juzgado Veinte Penal Municipal con Función de Control de Garantías de Bogotá, en primera instancia, y el 12 de febrero de 2021, por el Juzgado Cincuenta Penal del Circuito con Función de Conocimiento de Bogotá, en segunda instancia, mediante las cuales concedieron el amparo de los derechos fundamentales al buen nombre y a la honra de Enrique Vallejo Echeverri, Paula Camila Fonseca y la Clínica Envalle S.A.S. En su lugar, DECLARAR IMPROCEDENTE el amparo invocado por los accionantes, por las razones expuestas en la parte motiva de esta providencia. SEGUNDO.- Por Secretaría General, LÍBRENSE las comunicaciones de que trata el artículo 36 del Decreto 2591 de 1991. En este caso se formula la acción de tutela en contra de un particular, alegando la vulneración de los derechos fundamentales al buen nombre y honra, en virtud de las afirmaciones publicadas en redes sociales sobre el procedimiento médico veterinario que se le practicó a la mascota de la accionada, las cuales, según los accionantes, ponen en duda su ética profesional, al ser información errónea e inexacta. La Corte decidió declararla IMPROCEDENTE la acción de tutela, por no acreditar los requisitos de procedencia frente a la libertad de expresión en las redes sociales. En particular, no se demostró el estado de indefensión, como tampoco se superó el requisito de subsidiariedad.'"
      ]
     },
     "execution_count": 8,
     "metadata": {},
     "output_type": "execute_result"
    }
   ],
   "source": [
    "df['texto'] = df[['Providencia', 'Tipo', 'Fecha Sentencia', 'Tema - subtema', 'resuelve', 'sintesis']].astype(str).agg(' '.join, axis=1)\n",
    "df['texto'].iloc[0]"
   ]
  },
  {
   "cell_type": "markdown",
   "metadata": {
    "id": "q1-HrkguFPx-"
   },
   "source": [
    "####4.3.1 Vectorización"
   ]
  },
  {
   "cell_type": "code",
   "execution_count": null,
   "metadata": {
    "colab": {
     "base_uri": "https://localhost:8080/",
     "height": 493,
     "referenced_widgets": [
      "403d76348b554e2095b8132c97e50d57",
      "fd227bf9274442bd890658f13a08de76",
      "64cd0fbea8f54ed18c45d4e834a1031a",
      "8242670a618c4f078b6767e96ba3f0a5",
      "ed5c7d79f7964e5985441855593d5d30",
      "ac86b96162c0458898c058b99e4215f1",
      "5ce4bf97c0944b778c94e137ce78b7f9",
      "074f78d1b5b44d08a466c127a4cedb39",
      "07fdce8a1a534c779e49e7a7b37b5dc8",
      "24f8129d5d21437fa3abdaa6fb15fab2",
      "2aba41b304ab4dc1bc43004b449f41d3",
      "d00ba348e5304e6d886658cf4854cd10",
      "a481f81911fc4dada45b93854a9922ae",
      "c7fda3f685b24465a4030425e3414688",
      "87004846e55d432081dc9ffe27348f33",
      "206c9c0e7a2e41f59993095afe519f93",
      "41a3899125964159a8b8336bee317fb1",
      "e93420ce725b4b5e89389a5747954600",
      "bafe18f127af4b2a9dc8a68e932f8fca",
      "c5b6e00b36044fa2926b631862726dbe",
      "f32508a781644c45990bcec8463e3c6c",
      "ba0c10d002ad423283ce6a1d723b1613",
      "6f1ae5124e0d464981727fe56d34ef4c",
      "262f330e50ab4840b4e33684201eb536",
      "9cdc670d8e134793a5fa221c5e41a6d9",
      "ef6b99b255614b8da211f65ff11b9b02",
      "b78c0cd7891d4fe4b5216bdc0e6a4115",
      "ac1375af4db44149b5d0b02171cda5fe",
      "cdfbd99319ee4ca0a599a0534a8d886d",
      "f6e0f0b310184e4799a70175d281c47d",
      "c69a96f9b2e64c408c0f36e1cfa603e7",
      "6d42c0113e294f348590ba049e419459",
      "47d0f3389fcb47e4b3ebe61f2454a840",
      "5cbb554488a040a98646f262a3f47d19",
      "ebc8bacbe1dd4a0c9b5d024ea585a9b2",
      "fce32f382672484f85d88f9ae53406b7",
      "e1f988c442a54b40845c246a5d1decb5",
      "439061bbecfd4d7687855ca6f36dd6fb",
      "fcded422aa194584a0d108641f3d41a4",
      "a22562461ed6462cae36e84de2f9261c",
      "435bf09f7c484175b28d8cf72cdd6cac",
      "05d1c03d285f4133bfb3670495d87e82",
      "d71e37d7c93545b7a77b9bd7201818e8",
      "f5a3679fc81a4b99b7d2089d82298df0",
      "aa733e36cdd14c3d913ab07c9e35be47",
      "505b89f2eb154d8b94bb6e13a6128d51",
      "a9e5241236e047be8f6461b2ef5e928d",
      "a436c49356c14726882370b2b36f1419",
      "e90dbe7926544da0af6775bad760a40f",
      "dfbd8cc83ffb40e991c811a98e07be84",
      "85402b37c80741ad8299706f3b09d583",
      "d35c32b796894584a173296d0117cf8f",
      "889507f0215947f499da4e68af6b0818",
      "c1237b9c2a3540f39cc2e2620a240d6a",
      "2faf8eada45b4f0bb6d7d5a5533c5362",
      "b33cb0cf0754446eb8fb2cba91866e2c",
      "4b49c5b2541349e68ebeae616766f51d",
      "790382f7e03e457da5bc10297c4c955d",
      "7048481130dc4e458a8489e920b947a0",
      "d8f7f5d7cc9d4350959df922d1634ef7",
      "a7b6e42638fd4dee9da54f1f36466969",
      "7b071a8534db46c5bb89d507deafbcef",
      "fd898abcf514425b9d175367b993a6d9",
      "6903a367b17f4436ba2e721464344cc9",
      "918d5f3ebec2418d8fdab9f8ee208542",
      "272bacdd4e9444a7bc774220caed2c5a",
      "406d502c383d4e448cc0e09449d386e2",
      "c4846bbbbb7c43ef993761806a31e86d",
      "e325c4dcb1034f32a2c6bef242fc8fb2",
      "dd4b5169a1de4afc8147b1419fb28308",
      "38a8d956986040a1903ee6f9cc13aa1e",
      "11a982585667482985fa3b2672749420",
      "eab00c18087b4e40bff55cfbc57cd47c",
      "28260c5750324b03ab13da99588b4e5e",
      "74f7c3dbf0f64ceaabc7e69072b677f2",
      "296e0a30303a48bcb4d7b07410e5b4e4",
      "dcaed7772ba240b2b9e31def246e2be6",
      "8cb3dc167cf94a2b88a15ee447bd515f",
      "e945d538369244f48a2ed37ef99850dc",
      "663c7a7323a441feb3f061a20ca866e6",
      "fbaf5b2fc3154ca98cfc5129193eed02",
      "485e773cc51a4a68a5e8980b06759fad",
      "093e43496ef34169be33c3a14e09d7aa",
      "900934a5dd94483b9be752a295c2dfe4",
      "85ef7b2346944167b946e7e5ea316e06",
      "5356203925c5420bb59dc2eaf93bba43",
      "246d737f9f6e4ed9b28c6b25533f8bea",
      "18f59a040ef04f6c87b98c64c95a7737",
      "29ec624e0d2f443d9c1f422cbebdae92",
      "279f2798e1bb473c9ba8b43983f858a1",
      "97ea22abe7ef448fa08f05ce4b73ef47",
      "ac3d58612f7b4234979850864e1ea9fb",
      "435b56f0a94c47888b573cae32ea767f",
      "7b1b9f079cb54862882617d86d66f116",
      "0387710548054c62a629296cf9813696",
      "51ca2966161d4028a6d70ff5030c9fc1",
      "5144e1396e884d2eb982678d88a59cfc",
      "35c126586c674ace852a1cf5708a6a43",
      "57af586f8e324666878b32ba556dc8b2",
      "1fdbc199735b4c1da8858d4ee827bb95",
      "ca82890db4444fafa7acaea5b8682ebb",
      "f3a4a755922442aa88a5e2ba3cc2ff5b",
      "8e5501c136fa43a7a332ac8a6c181fb7",
      "268822a6b2ac4bf9b2a5efa1f02b4107",
      "ad293228bbc240ed88bf0dad20654b8c",
      "01250a49c14f471395dead013b83cf95",
      "380750c408044e78ada1e71b219e8765",
      "25b0f231ab984c5baf58c90a00247d3b",
      "95ec5803c38a4ff88ff90655267e11df",
      "b64ae19795f042dfb77cf5bb8aa49c70",
      "91e92ef006d84f40b31ffa8308fe994e",
      "9a5ab2ef2cfd41af927f88ec629db9cf",
      "73ddacd490684b2db5eacf42f27be6f1",
      "cc40eef8dbe640d1b512a427b68acd11",
      "9fb5d4568fcd4fedae204424e7b93a49",
      "7e8aff168b9143d39c7148c76233d7a8",
      "df1aa193c11644db8c579a3836468ac0",
      "b0a3efcb118b4c3ea0598c6241f1489f",
      "83824da81c7846449b19bdcf10c16201",
      "cc837d41ac984a3484774e2ecc876a6f",
      "21647848f2a34de59df44cace52cf999"
     ]
    },
    "executionInfo": {
     "elapsed": 3841,
     "status": "ok",
     "timestamp": 1755825876847,
     "user": {
      "displayName": "Luis zabaleta",
      "userId": "04173334798562235860"
     },
     "user_tz": 300
    },
    "id": "hmNHbcuHHxsv",
    "outputId": "c97cd925-815b-4ebd-a1c4-ed92e096cd7d"
   },
   "outputs": [
    {
     "name": "stderr",
     "output_type": "stream",
     "text": [
      "/usr/local/lib/python3.12/dist-packages/huggingface_hub/utils/_auth.py:94: UserWarning: \n",
      "The secret `HF_TOKEN` does not exist in your Colab secrets.\n",
      "To authenticate with the Hugging Face Hub, create a token in your settings tab (https://huggingface.co/settings/tokens), set it as secret in your Google Colab and restart your session.\n",
      "You will be able to reuse this secret in all of your notebooks.\n",
      "Please note that authentication is recommended but still optional to access public models or datasets.\n",
      "  warnings.warn(\n"
     ]
    },
    {
     "data": {
      "application/vnd.jupyter.widget-view+json": {
       "model_id": "403d76348b554e2095b8132c97e50d57",
       "version_major": 2,
       "version_minor": 0
      },
      "text/plain": [
       "modules.json:   0%|          | 0.00/349 [00:00<?, ?B/s]"
      ]
     },
     "metadata": {},
     "output_type": "display_data"
    },
    {
     "data": {
      "application/vnd.jupyter.widget-view+json": {
       "model_id": "d00ba348e5304e6d886658cf4854cd10",
       "version_major": 2,
       "version_minor": 0
      },
      "text/plain": [
       "config_sentence_transformers.json:   0%|          | 0.00/116 [00:00<?, ?B/s]"
      ]
     },
     "metadata": {},
     "output_type": "display_data"
    },
    {
     "data": {
      "application/vnd.jupyter.widget-view+json": {
       "model_id": "6f1ae5124e0d464981727fe56d34ef4c",
       "version_major": 2,
       "version_minor": 0
      },
      "text/plain": [
       "README.md: 0.00B [00:00, ?B/s]"
      ]
     },
     "metadata": {},
     "output_type": "display_data"
    },
    {
     "data": {
      "application/vnd.jupyter.widget-view+json": {
       "model_id": "5cbb554488a040a98646f262a3f47d19",
       "version_major": 2,
       "version_minor": 0
      },
      "text/plain": [
       "sentence_bert_config.json:   0%|          | 0.00/53.0 [00:00<?, ?B/s]"
      ]
     },
     "metadata": {},
     "output_type": "display_data"
    },
    {
     "data": {
      "application/vnd.jupyter.widget-view+json": {
       "model_id": "aa733e36cdd14c3d913ab07c9e35be47",
       "version_major": 2,
       "version_minor": 0
      },
      "text/plain": [
       "config.json:   0%|          | 0.00/612 [00:00<?, ?B/s]"
      ]
     },
     "metadata": {},
     "output_type": "display_data"
    },
    {
     "data": {
      "application/vnd.jupyter.widget-view+json": {
       "model_id": "b33cb0cf0754446eb8fb2cba91866e2c",
       "version_major": 2,
       "version_minor": 0
      },
      "text/plain": [
       "model.safetensors:   0%|          | 0.00/90.9M [00:00<?, ?B/s]"
      ]
     },
     "metadata": {},
     "output_type": "display_data"
    },
    {
     "data": {
      "application/vnd.jupyter.widget-view+json": {
       "model_id": "406d502c383d4e448cc0e09449d386e2",
       "version_major": 2,
       "version_minor": 0
      },
      "text/plain": [
       "tokenizer_config.json:   0%|          | 0.00/350 [00:00<?, ?B/s]"
      ]
     },
     "metadata": {},
     "output_type": "display_data"
    },
    {
     "data": {
      "application/vnd.jupyter.widget-view+json": {
       "model_id": "8cb3dc167cf94a2b88a15ee447bd515f",
       "version_major": 2,
       "version_minor": 0
      },
      "text/plain": [
       "vocab.txt: 0.00B [00:00, ?B/s]"
      ]
     },
     "metadata": {},
     "output_type": "display_data"
    },
    {
     "data": {
      "application/vnd.jupyter.widget-view+json": {
       "model_id": "29ec624e0d2f443d9c1f422cbebdae92",
       "version_major": 2,
       "version_minor": 0
      },
      "text/plain": [
       "tokenizer.json: 0.00B [00:00, ?B/s]"
      ]
     },
     "metadata": {},
     "output_type": "display_data"
    },
    {
     "data": {
      "application/vnd.jupyter.widget-view+json": {
       "model_id": "1fdbc199735b4c1da8858d4ee827bb95",
       "version_major": 2,
       "version_minor": 0
      },
      "text/plain": [
       "special_tokens_map.json:   0%|          | 0.00/112 [00:00<?, ?B/s]"
      ]
     },
     "metadata": {},
     "output_type": "display_data"
    },
    {
     "data": {
      "application/vnd.jupyter.widget-view+json": {
       "model_id": "91e92ef006d84f40b31ffa8308fe994e",
       "version_major": 2,
       "version_minor": 0
      },
      "text/plain": [
       "config.json:   0%|          | 0.00/190 [00:00<?, ?B/s]"
      ]
     },
     "metadata": {},
     "output_type": "display_data"
    }
   ],
   "source": [
    "modelo_embeddings = SentenceTransformer(\"sentence-transformers/all-MiniLM-L6-v2\")"
   ]
  },
  {
   "cell_type": "code",
   "execution_count": null,
   "metadata": {
    "id": "PrwGttI-FSCu"
   },
   "outputs": [],
   "source": [
    "embeddings = modelo_embeddings.encode(df[\"texto\"].tolist(), convert_to_numpy=True)"
   ]
  },
  {
   "cell_type": "code",
   "execution_count": null,
   "metadata": {
    "id": "St9Jk-tWF-2S"
   },
   "outputs": [],
   "source": [
    "dim = embeddings.shape[1]\n",
    "index = faiss.IndexFlatL2(dim)\n",
    "index.add(embeddings)"
   ]
  },
  {
   "cell_type": "markdown",
   "metadata": {
    "id": "7uxX1cKdSWEB"
   },
   "source": [
    "###4.4 Función de búsqueda básica por palabra clave\n",
    "#####Podia implementar embeddings y FAISS/Chroma para que la búsqueda semántica fuera más potente, pero preferí empezar por algo sencillo para probar el funcionamiento del modelo (pero no termina de cargar con ningun ajuste tras varias pruebas) → Al final implemente embeddings y FAISS porque pense que asi funcionaria mejor el modelo de FLAN-T5 → Finalmente, se integró perfectamente con el modelo elegido (Gemini)."
   ]
  },
  {
   "cell_type": "code",
   "execution_count": null,
   "metadata": {
    "id": "KG6kOq4ZScyG"
   },
   "outputs": [],
   "source": [
    "def buscar_casos(palabra, top_k=5):\n",
    "    palabra_embedding = modelo_embeddings.encode([palabra], convert_to_numpy=True)\n",
    "    distances, indices = index.search(palabra_embedding, top_k)\n",
    "    resultados = df.iloc[indices[0]]\n",
    "    return resultados[[\"Providencia\", \"texto\"]]"
   ]
  },
  {
   "cell_type": "markdown",
   "metadata": {
    "id": "mdTW-nlqEs7T"
   },
   "source": [
    "###4.5 Creación de ChatBot"
   ]
  },
  {
   "cell_type": "code",
   "execution_count": null,
   "metadata": {
    "id": "p7DknQ9fHYB_"
   },
   "outputs": [],
   "source": [
    "#Configuración modelo Gemini\n",
    "model = genai.GenerativeModel(\"gemini-1.5-flash\")"
   ]
  },
  {
   "cell_type": "code",
   "execution_count": null,
   "metadata": {
    "id": "M1nGP9wREv4H"
   },
   "outputs": [],
   "source": [
    "#Función del chatbot\n",
    "def consulta_chatbot(pregunta, top_k=5):\n",
    "    pregunta_emb = modelo_embeddings.encode([pregunta])\n",
    "    distances, indices = index.search(pregunta_emb, top_k)\n",
    "    contexto = df.iloc[indices[0]][[\"Providencia\", \"texto\"]].to_string(index=False)\n",
    "\n",
    "    if contexto.strip() == \"\":\n",
    "        return \"No encontré información relevante en los casos legales.\"\n",
    "\n",
    "    prompt = f\"\"\"\n",
    "    Actúa como un asesor legal que explica y responde de forma sencilla para alguien sin conocimientos jurídicos o técnicos, entonces debes resumir y explicar sin terminologías complejas.\n",
    "\n",
    "    Casos encontrados:\n",
    "    {contexto}\n",
    "\n",
    "    Pregunta:{pregunta}\n",
    "\n",
    "    Respuesta:\n",
    "    \"\"\"\n",
    "    response = model.generate_content(prompt)\n",
    "    respuesta_final = response.text.strip()\n",
    "\n",
    "    return respuesta_final"
   ]
  },
  {
   "cell_type": "markdown",
   "metadata": {
    "id": "vpDS0adTOtee"
   },
   "source": [
    "###4.6 Pruebas del ChatBot"
   ]
  },
  {
   "cell_type": "code",
   "execution_count": null,
   "metadata": {
    "colab": {
     "base_uri": "https://localhost:8080/",
     "height": 211
    },
    "executionInfo": {
     "elapsed": 4777,
     "status": "ok",
     "timestamp": 1755826853590,
     "user": {
      "displayName": "Luis zabaleta",
      "userId": "04173334798562235860"
     },
     "user_tz": 300
    },
    "id": "eb43ekf4O1Gf",
    "outputId": "1d626617-a431-464a-b89f-82e61a1ef50e"
   },
   "outputs": [
    {
     "name": "stdout",
     "output_type": "stream",
     "text": [
      "Elegiré tres demandas de las presentadas para resumir sus sentencias de forma sencilla:\n",
      "\n",
      "\n",
      "**1. Demanda C-278/24:** Esta demanda cuestionaba la constitucionalidad de la Ley 2300 de 2023, que protege la intimidad de los consumidores al regular cómo y cuándo las empresas pueden contactarlos para cobrar deudas.  La Corte Suprema encontró que la ley *sí* es constitucional (la declaró \"exequible\") porque, aunque protege derechos importantes, no necesita seguir un procedimiento legal tan estricto como el que se usa para leyes que solo protegen derechos fundamentales.  En resumen, la ley que protege la intimidad de los consumidores al regular las comunicaciones de cobros es válida.\n",
      "\n",
      "\n",
      "**2. Demanda C-540/23:** Esta demanda desafió partes de una ley tributaria (Ley 2277 de 2022) que establecía diferentes reglas para el pago de impuestos para distintos grupos de profesionales independientes bajo el Régimen Simple de Tributación (RST). La Corte encontró que estas diferencias eran injustas e inconsistentes, ya que no reflejaban las diferencias reales en los costos entre esos grupos. Por lo tanto, la Corte declaró *inconstitucionales* (inexequibles) las partes de la ley que creaban esa desigualdad, devolviendo las reglas a su estado anterior.  En resumen, se declaró inconstitucional la forma desigual en que se cobraban impuestos a algunos grupos de profesionales.\n",
      "\n",
      "\n",
      "**3. Demanda T-584/23:**  Esta demanda de tutela se presentó contra una empresa que ofrecía préstamos a través de una aplicación móvil, por prácticas agresivas de cobro de deudas. La Corte encontró que la empresa había violado los derechos fundamentales del demandante a la intimidad, honra y buen nombre, mediante métodos de cobro excesivos (como publicar su información personal). Aunque la Corte reconoció las violaciones, declaró que ya no podía proteger esos derechos específicos porque las acciones ya habían pasado (*carencia actual de objeto por hecho consumado*).  Sin embargo, la Corte *exhortó* a las autoridades a vigilar las prácticas de cobro de estas aplicaciones y *advirtió* a la empresa para que no repita esas acciones. En resumen, la empresa actuó mal, pero la Corte se enfocó en prevenir futuros actos similares en lugar de sancionar los ya ocurridos.\n"
     ]
    }
   ],
   "source": [
    "pregunta = \"Elige tres demandas, las demandas las puedes elegir tú. ¿Cuáles son las sentencias de 3 demandas?\"\n",
    "respuesta = consulta_chatbot(pregunta)\n",
    "print(respuesta)"
   ]
  },
  {
   "cell_type": "code",
   "execution_count": null,
   "metadata": {
    "colab": {
     "base_uri": "https://localhost:8080/",
     "height": 159
    },
    "executionInfo": {
     "elapsed": 3736,
     "status": "ok",
     "timestamp": 1755826896382,
     "user": {
      "displayName": "Luis zabaleta",
      "userId": "04173334798562235860"
     },
     "user_tz": 300
    },
    "id": "eb7iPtxt-mW2",
    "outputId": "3c77907d-7c73-4d1d-9b6d-876256286666"
   },
   "outputs": [
    {
     "name": "stdout",
     "output_type": "stream",
     "text": [
      "Las tres demandas presentan situaciones distintas, pero todas involucran alegatos de violación de derechos fundamentales:\n",
      "\n",
      "**Caso C-540/23:** Esta demanda cuestiona la equidad de un sistema tributario simplificado (RST) en Colombia.  Profesionales independientes se quejaron porque el sistema trataba de manera diferente, e injusta, a dos grupos con actividades similares (servicios profesionales), imponiendo límites de ingresos y tarifas de impuestos más altas a un grupo que al otro sin una razón justificable.  La Corte encontró que esta diferencia era arbitraria y la declaró inconstitucional.\n",
      "\n",
      "**Caso T-584/23:**  Un individuo demandó a una empresa que le otorgó un préstamo a través de una aplicación móvil, por prácticas de cobro de deudas abusivas. La empresa empleó tácticas intimidatorias como ir a la casa de sus familiares, colocar carteles con su imagen y difundir su información personal. La Corte encontró que la empresa había violado los derechos a la intimidad, la honra y el buen nombre del demandante y le ordenó cesar dichas prácticas. También exhortó a la Superintendencia de Industria y Comercio a regular mejor estas aplicaciones de préstamos.\n",
      "\n",
      "**Caso T-314/24:**  Esta demanda de tutela involucró un conflicto en un gimnasio donde el demandante alegó discriminación por orientación sexual tras la cancelación de su membresía, debido a un altercado con otro usuario. El demandante también alegó una falta de diligencia en la investigación de su denuncia. La Corte encontró que no se probó la discriminación, ya que la membresía no fue cancelada, declarando la carencia de objeto para la parte de la demanda relacionada con la investigación de la denuncia (por haberse resuelto en otra instancia).\n"
     ]
    }
   ],
   "source": [
    "pregunta = \"¿De qué se trataron las 3 demandas anteriores?\"\n",
    "respuesta = consulta_chatbot(pregunta)\n",
    "print(respuesta)"
   ]
  },
  {
   "cell_type": "code",
   "execution_count": null,
   "metadata": {
    "colab": {
     "base_uri": "https://localhost:8080/",
     "height": 54
    },
    "executionInfo": {
     "elapsed": 2711,
     "status": "ok",
     "timestamp": 1755826909088,
     "user": {
      "displayName": "Luis zabaleta",
      "userId": "04173334798562235860"
     },
     "user_tz": 300
    },
    "id": "pvUn2jFG-m48",
    "outputId": "b117f2b6-1952-4768-a583-eceaf7a0a255"
   },
   "outputs": [
    {
     "name": "stdout",
     "output_type": "stream",
     "text": [
      "La sentencia que trata sobre acoso escolar es la **T-252/23**.  En este caso, un estudiante fue retirado del colegio debido a acoso escolar (\"bullying\" o matoneo). Aunque el daño ya estaba hecho (daño consumado), la Corte Constitucional aún decidió pronunciarse sobre la violación de los derechos del estudiante y ordenó a la institución educativa tomar medidas para prevenir y solucionar casos futuros de acoso escolar y ciberacoso.\n"
     ]
    }
   ],
   "source": [
    "pregunta = \"¿Cuál fue la sentencia del caso que habla de acoso escolar? \"\n",
    "respuesta = consulta_chatbot(pregunta)\n",
    "print(respuesta)"
   ]
  },
  {
   "cell_type": "code",
   "execution_count": null,
   "metadata": {
    "colab": {
     "base_uri": "https://localhost:8080/",
     "height": 89
    },
    "executionInfo": {
     "elapsed": 2427,
     "status": "ok",
     "timestamp": 1755826921986,
     "user": {
      "displayName": "Luis zabaleta",
      "userId": "04173334798562235860"
     },
     "user_tz": 300
    },
    "id": "9-3-bBP2-nXZ",
    "outputId": "a7cabfaf-616f-4768-b78f-49790499b43f"
   },
   "outputs": [
    {
     "name": "stdout",
     "output_type": "stream",
     "text": [
      "En el caso T-400/20, un estudiante de 15 años fue suspendido indefinidamente por solicitar y obtener fotos íntimas de una niña de 12 años, ambas estudiantes de la misma institución educativa, usando medios electrónicos.  El padre del estudiante demandó, alegando que la suspensión violaba los derechos de su hijo al debido proceso y a una sanción proporcional.\n",
      "\n",
      "La Corte Constitucional revisó el caso y confirmó que la institución no había violado los derechos del estudiante, aunque sí criticó el lenguaje usado por la institución al referirse a la acción del estudiante como un \"delito\".  Sin embargo, la Corte sí ordenó a la institución revisar su manual de convivencia para asegurarse de que las sanciones sean justas y proporcionales, y no dependan completamente de la intervención de las autoridades externas.  También se instó al departamento de educación a realizar talleres sobre respeto a la intimidad, uso responsable de redes sociales y los derechos y deberes de los estudiantes.  En resumen, el caso trata sobre la suspensión de un estudiante por ciberacoso y la revisión de las políticas escolares al respecto para garantizar la justicia y la proporcionalidad de las sanciones.\n"
     ]
    }
   ],
   "source": [
    "pregunta = \"Diga el detalle de la demanda relacionada con acoso escolar\"\n",
    "respuesta = consulta_chatbot(pregunta)\n",
    "print(respuesta)"
   ]
  },
  {
   "cell_type": "code",
   "execution_count": null,
   "metadata": {
    "colab": {
     "base_uri": "https://localhost:8080/",
     "height": 54
    },
    "executionInfo": {
     "elapsed": 1564,
     "status": "ok",
     "timestamp": 1755826929572,
     "user": {
      "displayName": "Luis zabaleta",
      "userId": "04173334798562235860"
     },
     "user_tz": 300
    },
    "id": "ZcFPFjez-oAI",
    "outputId": "919117d3-314c-4847-de25-49c72c0e9caf"
   },
   "outputs": [
    {
     "name": "stdout",
     "output_type": "stream",
     "text": [
      "No se menciona explícitamente el acrónimo \"PIAR\" en ninguno de los casos proporcionados.  Es posible que se trate de una sigla no detallada en los extractos de las providencias. Para poder identificar casos relacionados con PIAR, necesito que me proporcione la información completa de qué significa ese acrónimo.\n"
     ]
    }
   ],
   "source": [
    "pregunta = \"¿Existen casos que hablan sobre el PIAR?. Indique de que trataron los casos y ¿cuáles fueron sus sentencias?\"\n",
    "respuesta = consulta_chatbot(pregunta)\n",
    "print(respuesta)"
   ]
  },
  {
   "cell_type": "markdown",
   "metadata": {
    "id": "TQUjfBFCQHrY"
   },
   "source": [
    "#4.7 Conclusiones\n",
    "\n",
    "####Al no poder terminar de probar ninguno de los modelos, puedo establecer que LLaMA-2 resulta muy lenta para este tipo de entornos y FLAN-T5 large en CPU corre de forma confiable pero al final las respuesta que se tuvieron anteriormente no sirven para dar solución al proyecto, ya que termina repitiendo la misma pregunta que se la hecho.\n",
    "####Finalmente, se logró un chatbot legal que entiende preguntas en lenguaje natural y responde con base a información vectorizada.\n",
    "####Gemini ofreció respuestas más naturales y completas que FLAN-T5."
   ]
  },
  {
   "cell_type": "markdown",
   "metadata": {
    "id": "Lh_4hbas9b2B"
   },
   "source": [
    "#5. Futuros ajustes o mejoras\n",
    "\n",
    "####Teniendo en cuenta las limitaciones que se tuvieron con los modelos Open Source, se podria implementar un modelo OpenAI, que por otro lado tambien tiene un costo, por lo que se podria pensar en entrenar un modelo propio (si se disponen de los recursos necesarios) u optar por explorar alternativas más economicas.\n",
    "####Por otro lado, para no depender de palabras clave se podria optar por implementar embeddings + FAISS para búsqueda semántica, ya que permite encontrar coincidencias aunque no sean exactas → Al final si implemente embeddings + FAISS para búsqueda semántica porque pense que FLAN-T5 se comportaria mejor, pero finalmente sigue dando como respuesta el mismo prompt o la pregunta que se le hace."
   ]
  },
  {
   "cell_type": "markdown",
   "metadata": {
    "id": "XzzFyVE59imt"
   },
   "source": [
    "#6. Apreciaciones y comentarios del caso (opcional)"
   ]
  },
  {
   "cell_type": "code",
   "execution_count": 45,
   "metadata": {
    "colab": {
     "base_uri": "https://localhost:8080/"
    },
    "executionInfo": {
     "elapsed": 16926,
     "status": "ok",
     "timestamp": 1755830075756,
     "user": {
      "displayName": "Luis zabaleta",
      "userId": "04173334798562235860"
     },
     "user_tz": 300
    },
    "id": "jOZUISh5oHVu",
    "outputId": "c07055f5-851b-439d-ae77-b33a56b7a0d9"
   },
   "outputs": [
    {
     "name": "stdout",
     "output_type": "stream",
     "text": [
      "Drive already mounted at /content/drive; to attempt to forcibly remount, call drive.mount(\"/content/drive\", force_remount=True).\n"
     ]
    }
   ],
   "source": [
    "from google.colab import drive\n",
    "drive.mount('/content/drive')"
   ]
  },
  {
   "cell_type": "code",
   "execution_count": 46,
   "metadata": {
    "colab": {
     "base_uri": "https://localhost:8080/",
     "height": 211
    },
    "executionInfo": {
     "elapsed": 15,
     "status": "error",
     "timestamp": 1755830086330,
     "user": {
      "displayName": "Luis zabaleta",
      "userId": "04173334798562235860"
     },
     "user_tz": 300
    },
    "id": "nTW7assbntq2",
    "outputId": "c795819f-1b25-4ef4-a9a3-5ca02ec4058c"
   },
   "outputs": [
    {
     "ename": "FileNotFoundError",
     "evalue": "[Errno 2] No such file or directory: 'Informe_Final_PT2.ipynb'",
     "output_type": "error",
     "traceback": [
      "\u001b[0;31m---------------------------------------------------------------------------\u001b[0m",
      "\u001b[0;31mFileNotFoundError\u001b[0m                         Traceback (most recent call last)",
      "\u001b[0;32m/tmp/ipython-input-1099103559.py\u001b[0m in \u001b[0;36m<cell line: 0>\u001b[0;34m()\u001b[0m\n\u001b[1;32m      3\u001b[0m \u001b[0mnotebook_limpio\u001b[0m \u001b[0;34m=\u001b[0m \u001b[0;34m\"Informe_Final_PT2-F.ipynb\"\u001b[0m\u001b[0;34m\u001b[0m\u001b[0;34m\u001b[0m\u001b[0m\n\u001b[1;32m      4\u001b[0m \u001b[0;34m\u001b[0m\u001b[0m\n\u001b[0;32m----> 5\u001b[0;31m \u001b[0;32mwith\u001b[0m \u001b[0mopen\u001b[0m\u001b[0;34m(\u001b[0m\u001b[0mnotebook_path\u001b[0m\u001b[0;34m,\u001b[0m \u001b[0;34m\"r\"\u001b[0m\u001b[0;34m,\u001b[0m \u001b[0mencoding\u001b[0m\u001b[0;34m=\u001b[0m\u001b[0;34m\"utf-8\"\u001b[0m\u001b[0;34m)\u001b[0m \u001b[0;32mas\u001b[0m \u001b[0mf\u001b[0m\u001b[0;34m:\u001b[0m\u001b[0;34m\u001b[0m\u001b[0;34m\u001b[0m\u001b[0m\n\u001b[0m\u001b[1;32m      6\u001b[0m     \u001b[0mnb\u001b[0m \u001b[0;34m=\u001b[0m \u001b[0mnbformat\u001b[0m\u001b[0;34m.\u001b[0m\u001b[0mread\u001b[0m\u001b[0;34m(\u001b[0m\u001b[0mf\u001b[0m\u001b[0;34m,\u001b[0m \u001b[0mas_version\u001b[0m\u001b[0;34m=\u001b[0m\u001b[0;36m4\u001b[0m\u001b[0;34m)\u001b[0m\u001b[0;34m\u001b[0m\u001b[0;34m\u001b[0m\u001b[0m\n\u001b[1;32m      7\u001b[0m \u001b[0;34m\u001b[0m\u001b[0m\n",
      "\u001b[0;31mFileNotFoundError\u001b[0m: [Errno 2] No such file or directory: 'Informe_Final_PT2.ipynb'"
     ]
    }
   ],
   "source": [
    "import nbformat\n",
    "notebook_path = \"Informe_Final_PT2.ipynb\"\n",
    "notebook_limpio = \"Informe_Final_PT2-F.ipynb\"\n",
    "\n",
    "with open(notebook_path, \"r\", encoding=\"utf-8\") as f:\n",
    "    nb = nbformat.read(f, as_version=4)\n",
    "\n",
    "if \"widgets\" in nb[\"metadata\"]:\n",
    "    del nb[\"metadata\"][\"widgets\"]\n",
    "\n",
    "with open(notebook_limpio, \"w\", encoding=\"utf-8\") as f:\n",
    "    nbformat.write(nb, f)"
   ]
  }
 ],
 "metadata": {
  "colab": {
   "authorship_tag": "ABX9TyN/Z8ycWUCntCm5qsdtiZWc",
   "mount_file_id": "1v-MKp0jl7V6WH8G0x_O-3_bTAjpBz4fK",
   "provenance": []
  },
  "kernelspec": {
   "display_name": "Python 3",
   "name": "python3"
  },
  "language_info": {
   "name": "python"
  }
 },
 "nbformat": 4,
 "nbformat_minor": 0
}
